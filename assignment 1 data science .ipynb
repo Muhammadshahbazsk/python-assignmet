{
 "cells": [
  {
   "cell_type": "code",
   "execution_count": 3,
   "id": "c4d07d86",
   "metadata": {},
   "outputs": [
    {
     "name": "stdout",
     "output_type": "stream",
     "text": [
      "Twinkle, twinkle, little star\n",
      "        How I wonder what you are\n",
      "                   Up above the world so high\n",
      "                   Like a diamond in the sky\n",
      "Twinkle, twinkle, little star\n",
      "        How I wonder what you are\n"
     ]
    }
   ],
   "source": [
    "#program 1\n",
    "print(\"Twinkle, twinkle, little star\")\n",
    "print(\"        How I wonder what you are\")\n",
    "print(\"                   Up above the world so high\")\n",
    "print(\"                   Like a diamond in the sky\")\n",
    "print(\"Twinkle, twinkle, little star\")\n",
    "print(\"        How I wonder what you are\")\n"
   ]
  },
  {
   "cell_type": "code",
   "execution_count": 4,
   "id": "bd5d418c",
   "metadata": {},
   "outputs": [
    {
     "name": "stdout",
     "output_type": "stream",
     "text": [
      "3.8.8 (default, Apr 13 2021, 15:08:03) [MSC v.1916 64 bit (AMD64)]\n"
     ]
    }
   ],
   "source": [
    "#program 2\n",
    "import sys\n",
    "print(sys.version)"
   ]
  },
  {
   "cell_type": "code",
   "execution_count": 5,
   "id": "1e7fb80a",
   "metadata": {},
   "outputs": [
    {
     "name": "stdout",
     "output_type": "stream",
     "text": [
      "the current date and time is 2022-01-01 12:53:10.020876\n"
     ]
    }
   ],
   "source": [
    "#program 3\n",
    "from datetime import datetime\n",
    "today= datetime.today()\n",
    "print(\"the current date and time is\",today)"
   ]
  },
  {
   "cell_type": "code",
   "execution_count": 6,
   "id": "51e438b1",
   "metadata": {},
   "outputs": [
    {
     "name": "stdout",
     "output_type": "stream",
     "text": [
      "enter value to find radius23\n",
      "entered radius 23.0 is 1661.9025137490005\n"
     ]
    }
   ],
   "source": [
    "#program 4\n",
    "from math import pi\n",
    "r= float(input(\"enter value to find radius\"))\n",
    "print(\"entered radius\",str(r)+\" is \"+str(pi*r**2))"
   ]
  },
  {
   "cell_type": "code",
   "execution_count": 7,
   "id": "20472bc0",
   "metadata": {},
   "outputs": [
    {
     "name": "stdout",
     "output_type": "stream",
     "text": [
      "enter your first & last name using spaceMuhammad shahbaz\n",
      "zabhahs dammahuM\n"
     ]
    }
   ],
   "source": [
    "#program 5\n",
    "s = input(\"enter your first & last name using space\")\n",
    "strlen=len(s) \n",
    "sliStr=s[strlen::-1]  \n",
    "print (sliStr) "
   ]
  },
  {
   "cell_type": "code",
   "execution_count": 8,
   "id": "5d185e26",
   "metadata": {},
   "outputs": [
    {
     "name": "stdout",
     "output_type": "stream",
     "text": [
      "enter number1 :23\n",
      "enter number2 :43\n",
      "sum 66\n"
     ]
    }
   ],
   "source": [
    "#program 6\n",
    "s = int(input(\"enter number1 :\"))\n",
    "k = int(input(\"enter number2 :\"))\n",
    "sum=s+k\n",
    "\n",
    "print(\"sum\",sum)"
   ]
  },
  {
   "cell_type": "code",
   "execution_count": null,
   "id": "61b11195",
   "metadata": {},
   "outputs": [],
   "source": [
    "\n"
   ]
  },
  {
   "cell_type": "code",
   "execution_count": null,
   "id": "ff859622",
   "metadata": {},
   "outputs": [],
   "source": []
  }
 ],
 "metadata": {
  "kernelspec": {
   "display_name": "Python 3",
   "language": "python",
   "name": "python3"
  },
  "language_info": {
   "codemirror_mode": {
    "name": "ipython",
    "version": 3
   },
   "file_extension": ".py",
   "mimetype": "text/x-python",
   "name": "python",
   "nbconvert_exporter": "python",
   "pygments_lexer": "ipython3",
   "version": "3.8.8"
  }
 },
 "nbformat": 4,
 "nbformat_minor": 5
}
