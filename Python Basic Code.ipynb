{
  "nbformat": 4,
  "nbformat_minor": 0,
  "metadata": {
    "colab": {
      "name": "Basic_python.ipynb",
      "provenance": [],
      "collapsed_sections": []
    },
    "kernelspec": {
      "name": "python3",
      "display_name": "Python 3"
    },
    "language_info": {
      "name": "python"
    }
  },
  "cells": [
    {
      "cell_type": "code",
      "metadata": {
        "colab": {
          "base_uri": "https://localhost:8080/"
        },
        "id": "RdqBNKUdF1do",
        "outputId": "3191f588-edc1-44e7-f5e6-7ccf52b69510"
      },
      "source": [
        "id = 113584\n",
        "n = \"Waleed\"\n",
        "f=0\n",
        "print(\"Student Name : \",n)\n",
        "print(\"Student ID : \",id)\n",
        "print(\"Marks : \",f)\n",
        "\n",
        "if f>0:\n",
        "  print(\"Greater than zero\")\n",
        "elif f<0:\n",
        "  print(\"Less than zero\")\n",
        "else:\n",
        "  print(\"Equal to zero\")\n",
        "\n",
        "for i in range(0,16,5):\n",
        "  print(\"ok\",i,\"ok\")\n",
        "\n",
        "a=5\n",
        "while a<=50:\n",
        "  print(a)\n",
        "  a+=5\n",
        "\n",
        "a=1\n",
        "while a<=10:\n",
        "  print(\"5 X \", a,\" = \" ,a*5)\n",
        "  a+=1\n",
        "\n",
        "l=[23,45,567,78,809,0,30,5]\n",
        "for i in range (5):\n",
        "  print(l[i])\n",
        "\n",
        "for i in l:\n",
        "  print(\"***\",i,\"***\")\n",
        "\n",
        "ch=['w','a','l','e','e','d']\n",
        "print(ch)\n",
        "\n",
        "for i in ch:\n",
        "  print(i)\n"
      ],
      "execution_count": 31,
      "outputs": [
        {
          "output_type": "stream",
          "text": [
            "Student Name :  Waleed\n",
            "Student ID :  113584\n",
            "Marks :  0\n",
            "Equal to zero\n",
            "ok 0 ok\n",
            "ok 5 ok\n",
            "ok 10 ok\n",
            "ok 15 ok\n",
            "5\n",
            "10\n",
            "15\n",
            "20\n",
            "25\n",
            "30\n",
            "35\n",
            "40\n",
            "45\n",
            "50\n",
            "5 X  1  =  5\n",
            "5 X  2  =  10\n",
            "5 X  3  =  15\n",
            "5 X  4  =  20\n",
            "5 X  5  =  25\n",
            "5 X  6  =  30\n",
            "5 X  7  =  35\n",
            "5 X  8  =  40\n",
            "5 X  9  =  45\n",
            "5 X  10  =  50\n",
            "23\n",
            "45\n",
            "567\n",
            "78\n",
            "809\n",
            "*** 23 ***\n",
            "*** 45 ***\n",
            "*** 567 ***\n",
            "*** 78 ***\n",
            "*** 809 ***\n",
            "*** 0 ***\n",
            "*** 30 ***\n",
            "*** 5 ***\n",
            "['w', 'a', 'l', 'e', 'e', 'd']\n",
            "w\n",
            "a\n",
            "l\n",
            "e\n",
            "e\n",
            "d\n"
          ],
          "name": "stdout"
        }
      ]
    }
  ]
}